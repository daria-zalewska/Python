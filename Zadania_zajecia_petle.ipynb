{
 "cells": [
  {
   "cell_type": "markdown",
   "id": "595f0c25",
   "metadata": {},
   "source": [
    "# Cwiczenia!"
   ]
  },
  {
   "cell_type": "markdown",
   "id": "9f9e08b9",
   "metadata": {},
   "source": [
    "## IF-ELIF-ELSE"
   ]
  },
  {
   "cell_type": "markdown",
   "id": "589b4c8c",
   "metadata": {},
   "source": [
    "1. Napisz instrukcję if, która pyta o nazwę użytkownika za pomocą funkcji input(). Jeśli nazwa brzmi „Bond”, wpisz „Welcome on board 007”. W przeciwnym razie wypisz \"Dzień dobry IMIĘ\". (Zastąp nazwę nazwą użytkownika)"
   ]
  },
  {
   "cell_type": "code",
   "execution_count": 37,
   "id": "e66d897a",
   "metadata": {},
   "outputs": [
    {
     "name": "stdout",
     "output_type": "stream",
     "text": [
      "Daria\n",
      "Dzień dobry Daria\n"
     ]
    }
   ],
   "source": [
    "'enter your name'\n",
    "x = input()\n",
    "\n",
    "if x == \"Bond\":\n",
    "    print(\"Welcome on board\")\n",
    "else:\n",
    "    print(f\"Dzień dobry {x}\")"
   ]
  },
  {
   "cell_type": "code",
   "execution_count": null,
   "id": "c83103ec",
   "metadata": {},
   "outputs": [],
   "source": []
  },
  {
   "cell_type": "markdown",
   "id": "71d97ecd",
   "metadata": {},
   "source": [
    "treepersqkm to słownik pokazujący liczbę krajów na kilometr kwadratowy przypadających na losowe kraje o dużej liczbie ludności. Napisz instrukcje if, która zwraca listę nazw krajów z ponad 20 000 drzew na kilometr kwadratowy."
   ]
  },
  {
   "cell_type": "code",
   "execution_count": 2,
   "id": "12019b9b",
   "metadata": {},
   "outputs": [],
   "source": [
    "treepersqkm = {\"Finland\": 90652, \"Taiwan\": 69593, \"Japan\": 49894, \"Russia\": 41396, \"Brazil\": 39542, \"Canada\": 36388, \"Bulgaria\": 24987, \"France\": 24436, \"Greece\": 24323, \"United States\": 23513, \"Turkey\": 11126, \"India\": 11109, \"Denmark\": 6129, \"Syria\": 534, \"Saudi Arabia\": 1}"
   ]
  },
  {
   "cell_type": "code",
   "execution_count": null,
   "id": "327fb206",
   "metadata": {},
   "outputs": [],
   "source": []
  },
  {
   "cell_type": "markdown",
   "id": "898b3c56",
   "metadata": {},
   "source": [
    "## Pętle"
   ]
  },
  {
   "cell_type": "markdown",
   "id": "e646cbb9",
   "metadata": {},
   "source": [
    "1. Napisz pętlę, która przeiteruje się przez listę i dla kazdego jej elementu wypisze \"Hallo\" + \"element\""
   ]
  },
  {
   "cell_type": "code",
   "execution_count": 22,
   "id": "ae8fc49d",
   "metadata": {},
   "outputs": [],
   "source": [
    "lst=[\"Sam\", \"Lisa\", \"Dave\", \"Wyatt\", \"Emma\", \"Sage\"]"
   ]
  },
  {
   "cell_type": "code",
   "execution_count": 24,
   "id": "12e4d42c",
   "metadata": {},
   "outputs": [
    {
     "data": {
      "text/plain": [
       "['Hallo Sam',\n",
       " 'Hallo Lisa',\n",
       " 'Hallo Dave',\n",
       " 'Hallo Wyatt',\n",
       " 'Hallo Emma',\n",
       " 'Hallo Sage']"
      ]
     },
     "execution_count": 24,
     "metadata": {},
     "output_type": "execute_result"
    }
   ],
   "source": [
    "[\"Hallo \" + name for name in lst]"
   ]
  },
  {
   "cell_type": "markdown",
   "id": "fd6046ca",
   "metadata": {},
   "source": [
    "2. Napisz pętlę, która przeiteruje się przez string."
   ]
  },
  {
   "cell_type": "code",
   "execution_count": 25,
   "id": "3dd6c39d",
   "metadata": {},
   "outputs": [],
   "source": [
    "str=\"Animals\""
   ]
  },
  {
   "cell_type": "code",
   "execution_count": 26,
   "id": "f9ac661e",
   "metadata": {
    "scrolled": true
   },
   "outputs": [
    {
     "name": "stdout",
     "output_type": "stream",
     "text": [
      "A\n",
      "n\n",
      "i\n",
      "m\n",
      "a\n",
      "l\n",
      "s\n"
     ]
    }
   ],
   "source": [
    "for letter in str:\n",
    "    print(letter)"
   ]
  },
  {
   "cell_type": "markdown",
   "id": "356e9be7",
   "metadata": {},
   "source": [
    "3. Napisz pętlę for używając instrukcji if, która dołącza każdą liczbę do nowej listy, jeśli jest dodatnia."
   ]
  },
  {
   "cell_type": "code",
   "execution_count": 30,
   "id": "359fb40b",
   "metadata": {},
   "outputs": [],
   "source": [
    "lst1=[111, 32, -9, -45, -1, 9, 850, -10, 12, 90, -9]\n",
    "lst2=[]"
   ]
  },
  {
   "cell_type": "code",
   "execution_count": 36,
   "id": "e1d51faa",
   "metadata": {},
   "outputs": [
    {
     "name": "stdout",
     "output_type": "stream",
     "text": [
      "[111, 32, 9, 850, 12, 90, 111, 32, 9, 850, 12, 90]\n"
     ]
    }
   ],
   "source": [
    "for number in lst1:\n",
    "    if number > 0:\n",
    "        lst2.append(number)\n",
    "print(lst2)"
   ]
  },
  {
   "cell_type": "markdown",
   "id": "f4795711",
   "metadata": {},
   "source": [
    "4. Napisz pętlę for, która dołącza typ każdego elementu z pierwszej listy do drugiej listy."
   ]
  },
  {
   "cell_type": "code",
   "execution_count": 41,
   "id": "90223f90",
   "metadata": {},
   "outputs": [
    {
     "name": "stdout",
     "output_type": "stream",
     "text": [
      "[<class 'str'>, <class 'float'>, <class 'int'>, <class 'bool'>, <class 'bool'>]\n"
     ]
    }
   ],
   "source": [
    "lst1=[\"dog\", 5.1, 5, True, False]\n",
    "lst2=[]\n",
    "for el in lst1:\n",
    "    lst2.append(type(el))\n",
    "print(lst2)\n"
   ]
  },
  {
   "cell_type": "markdown",
   "id": "85d46cd6",
   "metadata": {},
   "source": [
    "5. Majac liste imion wydrukuj kazde poza tym skonczacym sie na a"
   ]
  },
  {
   "cell_type": "code",
   "execution_count": 105,
   "id": "5de22790",
   "metadata": {},
   "outputs": [],
   "source": [
    "names = [\"Marry\", \"Rosalie\", \"Elvis\", \"Funny Elvis\", \"Anna\"]"
   ]
  },
  {
   "cell_type": "code",
   "execution_count": 48,
   "id": "29046a9b",
   "metadata": {},
   "outputs": [
    {
     "name": "stdout",
     "output_type": "stream",
     "text": [
      "Marry\n",
      "Rosalie\n",
      "Elvis\n",
      "Funny Elvis\n"
     ]
    }
   ],
   "source": [
    "for name in names:\n",
    "    if name[-1]==\"a\":\n",
    "        continue\n",
    "    print(name)\n",
    "    "
   ]
  },
  {
   "cell_type": "markdown",
   "id": "ec14238d",
   "metadata": {},
   "source": [
    "5* Napisz pętlę, ktora dolacza do nowej listy imie, jesli dwukrotnosc jego dlugosci jest >10.\n",
    "<br>5** Napisz petle, ktora bedzie podawala liczbe literek a dla kazdego imienia i dodawala je do nowej listy"
   ]
  },
  {
   "cell_type": "code",
   "execution_count": 112,
   "id": "cd093690",
   "metadata": {},
   "outputs": [
    {
     "name": "stdout",
     "output_type": "stream",
     "text": [
      "['Rosalie', 'Funny Elvis']\n",
      "[1, 1, 0, 0, 2]\n"
     ]
    }
   ],
   "source": [
    "new_name=[]\n",
    "for name in names:\n",
    "    if len(name)*2 > 10:\n",
    "        new_name.append(name)\n",
    "print(new_name)\n",
    "\n",
    "a_name=[]\n",
    "for name in names:\n",
    "    for letter in name:\n",
    "        counter_a=0\n",
    "        i=1\n",
    "        if letter.lower()=='a':\n",
    "            count_a=count_a+i\n",
    "            i=+1\n",
    "    a_name.append(count_a)\n",
    "    count_a=0\n",
    "print(a_name)   \n",
    "  \n",
    "  \n",
    "\n",
    "        "
   ]
  },
  {
   "cell_type": "markdown",
   "id": "778801f4",
   "metadata": {},
   "source": [
    "6. Napisz petle while ktora bedzie drukowala numery az i<15, za kazdym razem dodajac do niego 1. Konieczne w tym przypadku jest pominiecie liczb parzystych!"
   ]
  },
  {
   "cell_type": "code",
   "execution_count": null,
   "id": "6e97c145",
   "metadata": {},
   "outputs": [],
   "source": []
  },
  {
   "cell_type": "markdown",
   "id": "0740bf67",
   "metadata": {},
   "source": [
    "7. Napisz generator range, ktory od wygeneruje nam wartosci od 1 do 100 co 4. \n",
    "<br> Co bedzie ostatnia wartoscia? \n",
    "<br> Jak odwrocic ten generator? "
   ]
  },
  {
   "cell_type": "code",
   "execution_count": null,
   "id": "4cfcf56c",
   "metadata": {},
   "outputs": [],
   "source": []
  },
  {
   "cell_type": "code",
   "execution_count": null,
   "id": "2c404fae",
   "metadata": {},
   "outputs": [],
   "source": []
  }
 ],
 "metadata": {
  "kernelspec": {
   "display_name": "Python 3 (ipykernel)",
   "language": "python",
   "name": "python3"
  },
  "language_info": {
   "codemirror_mode": {
    "name": "ipython",
    "version": 3
   },
   "file_extension": ".py",
   "mimetype": "text/x-python",
   "name": "python",
   "nbconvert_exporter": "python",
   "pygments_lexer": "ipython3",
   "version": "3.9.7"
  }
 },
 "nbformat": 4,
 "nbformat_minor": 5
}
