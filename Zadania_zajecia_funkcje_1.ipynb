{
 "cells": [
  {
   "cell_type": "markdown",
   "id": "595f0c25",
   "metadata": {},
   "source": [
    "# Cwiczenia!"
   ]
  },
  {
   "cell_type": "markdown",
   "id": "9f9e08b9",
   "metadata": {},
   "source": [
    "## Funkcje"
   ]
  },
  {
   "cell_type": "markdown",
   "id": "589b4c8c",
   "metadata": {},
   "source": [
    "1. Należy napisać funkcję, która zamienia przekazany w parametrze tekst, na wielkie litery i go zwraca. Do tego celu można użyć funkcji input() która czyta tekst podany przez użytkownika, oraz funkcji upper(), która zamienia tekst na wielkie litery"
   ]
  },
  {
   "cell_type": "code",
   "execution_count": 28,
   "id": "63f405f9",
   "metadata": {},
   "outputs": [
    {
     "ename": "TypeError",
     "evalue": "change_to_upper() missing 1 required positional argument: 'name'",
     "output_type": "error",
     "traceback": [
      "\u001b[1;31m---------------------------------------------------------------------------\u001b[0m",
      "\u001b[1;31mTypeError\u001b[0m                                 Traceback (most recent call last)",
      "\u001b[1;32m~\\AppData\\Local\\Temp/ipykernel_24324/1782568939.py\u001b[0m in \u001b[0;36m<module>\u001b[1;34m\u001b[0m\n\u001b[0;32m      3\u001b[0m \u001b[1;33m\u001b[0m\u001b[0m\n\u001b[0;32m      4\u001b[0m \u001b[1;33m\u001b[0m\u001b[0m\n\u001b[1;32m----> 5\u001b[1;33m \u001b[0mprint\u001b[0m\u001b[1;33m(\u001b[0m\u001b[0mchange_to_upper\u001b[0m\u001b[1;33m(\u001b[0m\u001b[1;33m)\u001b[0m\u001b[1;33m)\u001b[0m\u001b[1;33m\u001b[0m\u001b[1;33m\u001b[0m\u001b[0m\n\u001b[0m",
      "\u001b[1;31mTypeError\u001b[0m: change_to_upper() missing 1 required positional argument: 'name'"
     ]
    }
   ],
   "source": [
    "def change_to_upper(name):\n",
    "    return chain.upper()\n",
    "    \n",
    "    \n",
    "print(change_to_upper())   "
   ]
  },
  {
   "cell_type": "markdown",
   "id": "94aec7aa",
   "metadata": {},
   "source": [
    "2. Należy napisać funkcję, która, przyjmie jako parametr listę liczb, a zwróci listę z usuniętymi liczbami parzystymi."
   ]
  },
  {
   "cell_type": "code",
   "execution_count": 39,
   "id": "90ef9011",
   "metadata": {},
   "outputs": [],
   "source": [
    "def usun_parzyste(lst1):\n",
    "    lst2=[]\n",
    "    for i in lst1:\n",
    "        if i%2 != 0:\n",
    "            lst2.append(i)\n",
    "    return(lst2)     \n",
    "    "
   ]
  },
  {
   "cell_type": "code",
   "execution_count": 40,
   "id": "dcc97f6a",
   "metadata": {},
   "outputs": [
    {
     "name": "stdout",
     "output_type": "stream",
     "text": [
      "[1, 5]\n"
     ]
    }
   ],
   "source": [
    "print(usun_parzyste([1,2,4,5]))"
   ]
  },
  {
   "cell_type": "markdown",
   "id": "f25aea9a",
   "metadata": {},
   "source": [
    "3. Nalezy napisać funkcje, ktora będzie zwracać z listy int-ow:\n",
    "    - dlugosc listy\n",
    "    - sume jej wartosci\n",
    "    - najwyzsza wartosc\n",
    "    - pierwszy i ostatni element"
   ]
  },
  {
   "cell_type": "code",
   "execution_count": 53,
   "id": "0a624741",
   "metadata": {
    "scrolled": true
   },
   "outputs": [
    {
     "ename": "SyntaxError",
     "evalue": "unexpected EOF while parsing (Temp/ipykernel_24324/503488657.py, line 5)",
     "output_type": "error",
     "traceback": [
      "\u001b[1;36m  File \u001b[1;32m\"C:\\Users\\dzalew\\AppData\\Local\\Temp/ipykernel_24324/503488657.py\"\u001b[1;36m, line \u001b[1;32m5\u001b[0m\n\u001b[1;33m    \u001b[0m\n\u001b[1;37m    ^\u001b[0m\n\u001b[1;31mSyntaxError\u001b[0m\u001b[1;31m:\u001b[0m unexpected EOF while parsing\n"
     ]
    }
   ],
   "source": [
    "def give_info(x):\n",
    "    return(len(x), sum(x))\n",
    "print(give_info([1,2,3,6,7]) \n",
    "      \n",
    "    "
   ]
  },
  {
   "cell_type": "markdown",
   "id": "9452fb98",
   "metadata": {},
   "source": [
    "4. Nalezy napisac funkcje, ktora generuje listę wszystkich liczb parzystych od 4 do 30"
   ]
  },
  {
   "cell_type": "code",
   "execution_count": 54,
   "id": "be049360",
   "metadata": {},
   "outputs": [
    {
     "name": "stdout",
     "output_type": "stream",
     "text": [
      "A\n"
     ]
    }
   ],
   "source": [
    "print(\"A\")"
   ]
  },
  {
   "cell_type": "code",
   "execution_count": null,
   "id": "fc87d14d",
   "metadata": {},
   "outputs": [],
   "source": []
  }
 ],
 "metadata": {
  "kernelspec": {
   "display_name": "Python 3 (ipykernel)",
   "language": "python",
   "name": "python3"
  },
  "language_info": {
   "codemirror_mode": {
    "name": "ipython",
    "version": 3
   },
   "file_extension": ".py",
   "mimetype": "text/x-python",
   "name": "python",
   "nbconvert_exporter": "python",
   "pygments_lexer": "ipython3",
   "version": "3.9.7"
  }
 },
 "nbformat": 4,
 "nbformat_minor": 5
}
