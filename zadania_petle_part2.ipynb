{
 "cells": [
  {
   "cell_type": "markdown",
   "id": "2135ce8e",
   "metadata": {},
   "source": [
    "1. Napisz pętlę, która wyświetli, po podaniu liczby, tabliczkę mnożenia.\n",
    "<br> Przykładowo:\n",
    "<br> \n",
    "<br>Wprowadź liczbę: 6\n",
    "<br>6x1 = 6\n",
    "<br>6x2 = 12\n",
    "<br>6x3 = 18\n",
    "<br>6x4 = 24\n",
    "<br>6x5 = 30\n",
    "<br>6x6 = 36\n",
    "<br>6x7 = 42\n",
    "<br>6x8 = 48\n",
    "<br>6x9 = 54\n",
    "<br>6x10 = 60"
   ]
  },
  {
   "cell_type": "code",
   "execution_count": null,
   "id": "adf2516d",
   "metadata": {},
   "outputs": [],
   "source": []
  },
  {
   "cell_type": "markdown",
   "id": "c747527b",
   "metadata": {},
   "source": [
    "2. Napisz pętlę, która wypisze liczby od 1 do 10 wstecz"
   ]
  },
  {
   "cell_type": "code",
   "execution_count": null,
   "id": "12e6c81c",
   "metadata": {},
   "outputs": [],
   "source": []
  },
  {
   "cell_type": "markdown",
   "id": "c6754449",
   "metadata": {},
   "source": [
    "3. Użyj pętli while, aby obliczyć sumę liczb nieparzystych do 100."
   ]
  },
  {
   "cell_type": "code",
   "execution_count": null,
   "id": "d5d270c4",
   "metadata": {},
   "outputs": [],
   "source": []
  },
  {
   "cell_type": "markdown",
   "id": "d5fa74a9",
   "metadata": {},
   "source": [
    "4. Napisz pętlę, która wydrukuje 20 pierwszych liczb ciągu fibonacciego: 0,1,1,2,3,5,8,13, najlepiej w formie listy. "
   ]
  },
  {
   "cell_type": "code",
   "execution_count": null,
   "id": "a9c57416",
   "metadata": {},
   "outputs": [],
   "source": []
  },
  {
   "cell_type": "markdown",
   "id": "45129498",
   "metadata": {},
   "source": [
    "5. Napisz pętlę, która wydrukuje wszystkie liczby z przedziału <1000,5000>, które są podzielne bez reszty przez 11"
   ]
  },
  {
   "cell_type": "code",
   "execution_count": null,
   "id": "2892bd78",
   "metadata": {},
   "outputs": [],
   "source": []
  },
  {
   "cell_type": "markdown",
   "id": "e1c1cd12",
   "metadata": {},
   "source": [
    "1*. Za pomoca petli wydrukuj nastepujacy wzorzec:\n",
    "<br>1\n",
    "<br>22\n",
    "<br>333\n",
    "<br>4444\n",
    "<br>55555\n",
    "<br>666666\n",
    "<br>7777777\n",
    "<br>88888888\n",
    "<br>999999999"
   ]
  },
  {
   "cell_type": "code",
   "execution_count": null,
   "id": "c00ebbc7",
   "metadata": {},
   "outputs": [],
   "source": []
  }
 ],
 "metadata": {
  "kernelspec": {
   "display_name": "Python 3",
   "language": "python",
   "name": "python3"
  },
  "language_info": {
   "codemirror_mode": {
    "name": "ipython",
    "version": 3
   },
   "file_extension": ".py",
   "mimetype": "text/x-python",
   "name": "python",
   "nbconvert_exporter": "python",
   "pygments_lexer": "ipython3",
   "version": "3.8.8"
  }
 },
 "nbformat": 4,
 "nbformat_minor": 5
}
