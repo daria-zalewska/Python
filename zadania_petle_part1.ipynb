{
 "cells": [
  {
   "cell_type": "markdown",
   "id": "f0c6b8d7",
   "metadata": {},
   "source": [
    "## PĘTLE"
   ]
  },
  {
   "cell_type": "markdown",
   "id": "55e39fad",
   "metadata": {},
   "source": [
    "1. Proszę za pomocą pętli i instrukcji if wyświetlić następujący ciąg:\n",
    "<br> 1\n",
    "<br> 2\n",
    "<br> 3\n",
    "<br> 4\n",
    "<br> Znalazłem 5! \n",
    "<br> 6\n",
    "<br> 7"
   ]
  },
  {
   "cell_type": "code",
   "execution_count": null,
   "id": "4896ccae",
   "metadata": {},
   "outputs": [],
   "source": []
  },
  {
   "cell_type": "markdown",
   "id": "8095df30",
   "metadata": {},
   "source": [
    "2.  Proszę, używając pętli for, napisać kod, który poprosi o wpisanie sześciu wartości. Po wpisaniu tych wartości program ma podsumować ile razy wprowadzona została wartość 5 (*-trudniejsze).\n",
    "\n",
    "<br> Wprowadź dowolną liczbę od 1 do 10: 2 \n",
    "<br> Wprowadź dowolną liczbę od 1 do 10: 3 \n",
    "<br> Wprowadź dowolną liczbę od 1 do 10: 5 \n",
    "<br> Wprowadź dowolną liczbę od 1 do 10: 5 \n",
    "<br> Wprowadź dowolną liczbę od 1 do 10: 5 \n",
    "<br> Użytkownik wybrał 3 razy liczbę 5."
   ]
  },
  {
   "cell_type": "code",
   "execution_count": null,
   "id": "d868c82e",
   "metadata": {},
   "outputs": [],
   "source": []
  },
  {
   "cell_type": "markdown",
   "id": "8f713bd2",
   "metadata": {},
   "source": [
    "3. Proszę, używając pętli for, napisać kod, który poprosi o wpisanie trzech wartości. Po wpisaniu tych wartości mają być one podsumowane.\n",
    "\n",
    "<br> Wprowadź wartość: 4\n",
    "<br> Wprowadź wartość: 2\n",
    "<br> Wprowadź wartość:\n",
    "<br> 2\n",
    "<br> Suma wpisanych wartości to: 8"
   ]
  },
  {
   "cell_type": "code",
   "execution_count": null,
   "id": "5bac0169",
   "metadata": {},
   "outputs": [],
   "source": []
  },
  {
   "cell_type": "markdown",
   "id": "d588695d",
   "metadata": {},
   "source": [
    "4. Proszę, używając pętli, wypisać liczby parzyste od 0 do 10 za pomocą pętli"
   ]
  },
  {
   "cell_type": "code",
   "execution_count": null,
   "id": "db9bed47",
   "metadata": {},
   "outputs": [],
   "source": []
  },
  {
   "cell_type": "markdown",
   "id": "3e841569",
   "metadata": {},
   "source": [
    "5. Proszę, używając pętli, wypisać co trzecią liczbę z zakresu 1 do 100"
   ]
  },
  {
   "cell_type": "code",
   "execution_count": null,
   "id": "e513b424",
   "metadata": {},
   "outputs": [],
   "source": []
  },
  {
   "cell_type": "markdown",
   "id": "523b99fe",
   "metadata": {},
   "source": [
    "6. Proszę, używając pętli wypisać liczby do 100, przy czym pętla ma (*-trudniejsze):\n",
    "- omijać wszystkie podzielne przez 10\n",
    "- przerywać jeśli coś będzie podzielne przez 33"
   ]
  }
 ],
 "metadata": {
  "kernelspec": {
   "display_name": "Python 3",
   "language": "python",
   "name": "python3"
  },
  "language_info": {
   "codemirror_mode": {
    "name": "ipython",
    "version": 3
   },
   "file_extension": ".py",
   "mimetype": "text/x-python",
   "name": "python",
   "nbconvert_exporter": "python",
   "pygments_lexer": "ipython3",
   "version": "3.8.8"
  }
 },
 "nbformat": 4,
 "nbformat_minor": 5
}
