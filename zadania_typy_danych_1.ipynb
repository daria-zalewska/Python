{
 "cells": [
  {
   "cell_type": "markdown",
   "id": "6dceee8d",
   "metadata": {},
   "source": [
    "### Listy"
   ]
  },
  {
   "cell_type": "markdown",
   "id": "686aa19d",
   "metadata": {},
   "source": [
    "1. Majac ponizszą listę zmień jej element o indexie 1 na \"just a dog\""
   ]
  },
  {
   "cell_type": "code",
   "execution_count": 4,
   "id": "e603b465",
   "metadata": {},
   "outputs": [],
   "source": [
    "dogs = ['border collie', 'australian cattle dog', 'labrador retriever']"
   ]
  },
  {
   "cell_type": "code",
   "execution_count": 6,
   "id": "75618c39",
   "metadata": {},
   "outputs": [
    {
     "data": {
      "text/plain": [
       "['border collie', 'just a dog', 'labrador retriever']"
      ]
     },
     "execution_count": 6,
     "metadata": {},
     "output_type": "execute_result"
    }
   ],
   "source": [
    "dogs[1]=\"just a dog\"\n",
    "dogs"
   ]
  },
  {
   "cell_type": "markdown",
   "id": "6219c2a2",
   "metadata": {},
   "source": [
    "2. Stworz pusta listę. Dodaj do niej kolejno: 'bernice', 'cody', 'aaron'"
   ]
  },
  {
   "cell_type": "code",
   "execution_count": 16,
   "id": "9750b095",
   "metadata": {},
   "outputs": [
    {
     "data": {
      "text/plain": [
       "['bernice', 'cody', 'aaron']"
      ]
     },
     "execution_count": 16,
     "metadata": {},
     "output_type": "execute_result"
    }
   ],
   "source": [
    "students = []\n",
    "type(students)\n",
    "students.append('bernice')\n",
    "students\n",
    "students.append('cody')\n",
    "students\n",
    "students.append('aaron')\n",
    "students"
   ]
  },
  {
   "cell_type": "markdown",
   "id": "1feac2c5",
   "metadata": {},
   "source": [
    "3. Mając poniższa liste:"
   ]
  },
  {
   "cell_type": "code",
   "execution_count": 2,
   "id": "274aa9aa",
   "metadata": {},
   "outputs": [],
   "source": [
    "students = ['bernice', 'aaron', 'cody']"
   ]
  },
  {
   "cell_type": "markdown",
   "id": "5ec119e2",
   "metadata": {},
   "source": [
    "Wygeneruj następujacy wynik kodu:\n",
    "\n",
    "<code>Our students are currently in alphabetical order.\n",
    "Aaron\n",
    "Bernice\n",
    "Cody\n",
    "\n",
    "<code>Our students are now in reverse alphabetical order.\n",
    "Cody\n",
    "Bernice\n",
    "Aaron"
   ]
  },
  {
   "cell_type": "code",
   "execution_count": 28,
   "id": "051d64cd",
   "metadata": {},
   "outputs": [
    {
     "name": "stdout",
     "output_type": "stream",
     "text": [
      "Our students are currently in alpabetical order.\n",
      "Aaron\n",
      "Bernice\n",
      "Cody\n"
     ]
    }
   ],
   "source": [
    "print('Our students are currently in alpabetical order.')\n",
    "print(sorted(students)[0].capitalize())\n",
    "print(sorted(students)[1].capitalize())\n",
    "print(sorted(students)[2].capitalize())"
   ]
  },
  {
   "cell_type": "code",
   "execution_count": 45,
   "id": "bc14a8c5",
   "metadata": {},
   "outputs": [
    {
     "ename": "SyntaxError",
     "evalue": "invalid syntax (Temp/ipykernel_19772/2579459742.py, line 1)",
     "output_type": "error",
     "traceback": [
      "\u001b[1;36m  File \u001b[1;32m\"C:\\Users\\dzalew\\AppData\\Local\\Temp/ipykernel_19772/2579459742.py\"\u001b[1;36m, line \u001b[1;32m1\u001b[0m\n\u001b[1;33m    students = students[].capitalize()\u001b[0m\n\u001b[1;37m                        ^\u001b[0m\n\u001b[1;31mSyntaxError\u001b[0m\u001b[1;31m:\u001b[0m invalid syntax\n"
     ]
    }
   ],
   "source": [
    "students = students.capitalize()\n",
    "alp_students = \"\\n\".join(sorted(students))\n",
    "print('Our students are currently in alpabetical order.')\n",
    "print(alp_students)"
   ]
  },
  {
   "cell_type": "markdown",
   "id": "3185775d",
   "metadata": {},
   "source": [
    "4. Zadeklaruj listę 5 liczb w losowej kolejności.\n",
    "Zadanie będzie polegało na wydrukowaniu jej w  różnych zamówieniach.\n",
    "<br> Wydrukuj za każdym razem wiadomość informującą nas jakie zadanie wykonales/las.\n",
    "<br> Wydrukuj liczby w oryginalnej kolejności.\n",
    "<br> Wydrukuj liczby w kolejności rosnącej.\n",
    "<br> Wydrukuj liczby w oryginalnej kolejności.\n",
    "<br> Wydrukuj liczby w kolejności malejącej.\n",
    "<br> Posortuj liczby na stałe (z przypisaniem do zmiennej) w kolejności rosnącej, a następnie wydrukuj je.\n",
    "<br> Posortuj liczby na stałe (z przypisaniem do zmiennej) w malejącej kolejności, a następnie wydrukuj je."
   ]
  },
  {
   "cell_type": "markdown",
   "id": "43a187eb",
   "metadata": {},
   "source": []
  },
  {
   "cell_type": "markdown",
   "id": "a01cc140",
   "metadata": {},
   "source": [
    "### Krotki"
   ]
  },
  {
   "cell_type": "markdown",
   "id": "521a3ab6",
   "metadata": {},
   "source": [
    "Napisz program (czyli funkcjonujacy kod:)), który sprawdza czy dany element istnieje w tupli. \n",
    "\n",
    "Sprawdź go na przykładowej krotce. \n",
    "\n",
    "Zadania dodatkowe: \n",
    "\n",
    "1: Z dowolnej tupli utwórz odwróconą listę.\n",
    "\n",
    "2**. Napisz program który podaje różnicę sum wartości w dwóch tuplach"
   ]
  },
  {
   "cell_type": "code",
   "execution_count": null,
   "id": "0e238c77",
   "metadata": {},
   "outputs": [],
   "source": []
  },
  {
   "cell_type": "markdown",
   "id": "6c29322f",
   "metadata": {},
   "source": [
    "Napisz tuple składającą się z dowolnych tupli (np. tpl = ((1,2,3), (1,8,1))) \n",
    "- Podaj jej elementy o pierwszym i ostatnim indexie. \n",
    "- Policz elementy. \n",
    "- Jeśli jest to tupla numeryczna podać wartość min i max. "
   ]
  },
  {
   "cell_type": "code",
   "execution_count": null,
   "id": "83fa118f",
   "metadata": {},
   "outputs": [],
   "source": []
  },
  {
   "cell_type": "markdown",
   "id": "149739ac",
   "metadata": {},
   "source": [
    "### Słowniki"
   ]
  },
  {
   "cell_type": "markdown",
   "id": "629fa770",
   "metadata": {},
   "source": [
    "Utwórz słownik: słownik = {\"Ania\":1200, \"Ola\":1300, \"Arek\":3000} \n",
    "\n",
    "Zaktualizuj dla niego wartość Ania:200, Arek:100 \n",
    "\n",
    "Sprawdź czy istnieje w słowniku „Ola”\n",
    "\n",
    "Sprawdź czy ktoś zarabia 200 zł \n",
    "\n",
    "Policz elementy słownika \n",
    "\n",
    "Wyczyść słownik."
   ]
  },
  {
   "cell_type": "markdown",
   "id": "50295dc1",
   "metadata": {},
   "source": [
    "Napisz funckję warunkową która spraqwdza czy imię jest męskie czy żeńskie"
   ]
  },
  {
   "cell_type": "code",
   "execution_count": 22,
   "id": "cd8d5134",
   "metadata": {},
   "outputs": [],
   "source": [
    "x = \"Daria\"\n"
   ]
  },
  {
   "cell_type": "code",
   "execution_count": 23,
   "id": "1fbce76e",
   "metadata": {},
   "outputs": [
    {
     "data": {
      "text/plain": [
       "'Daria'"
      ]
     },
     "execution_count": 23,
     "metadata": {},
     "output_type": "execute_result"
    }
   ],
   "source": [
    "x"
   ]
  },
  {
   "cell_type": "code",
   "execution_count": 25,
   "id": "e6107eb9",
   "metadata": {},
   "outputs": [
    {
     "data": {
      "text/plain": [
       "'a'"
      ]
     },
     "execution_count": 25,
     "metadata": {},
     "output_type": "execute_result"
    }
   ],
   "source": [
    "x[-1]"
   ]
  },
  {
   "cell_type": "code",
   "execution_count": 31,
   "id": "72855f24",
   "metadata": {},
   "outputs": [
    {
     "name": "stdout",
     "output_type": "stream",
     "text": [
      "imię żeńskie\n"
     ]
    }
   ],
   "source": [
    "if x[-1]=='a':\n",
    "    print(\"imię żeńskie\")\n",
    "else:\n",
    "    print(\"imię męskie\")"
   ]
  },
  {
   "cell_type": "code",
   "execution_count": null,
   "id": "9ad8a986",
   "metadata": {},
   "outputs": [],
   "source": []
  }
 ],
 "metadata": {
  "kernelspec": {
   "display_name": "Python 3 (ipykernel)",
   "language": "python",
   "name": "python3"
  },
  "language_info": {
   "codemirror_mode": {
    "name": "ipython",
    "version": 3
   },
   "file_extension": ".py",
   "mimetype": "text/x-python",
   "name": "python",
   "nbconvert_exporter": "python",
   "pygments_lexer": "ipython3",
   "version": "3.9.7"
  }
 },
 "nbformat": 4,
 "nbformat_minor": 5
}
