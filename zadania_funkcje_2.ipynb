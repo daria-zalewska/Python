{
 "cells": [
  {
   "cell_type": "markdown",
   "id": "4f9b6311",
   "metadata": {},
   "source": [
    "1. Napisz funkcję o nazwie show_numbers, która przyjmuje parametr o nazwie limit. Powinien wydrukować wszystkie liczby od 0 do limitu z etykietą, aby zidentyfikować liczby parzyste i nieparzyste. Na przykład, jeśli limit wynosi 3, powinien wydrukować:\n",
    "<br> 0 EVEN\n",
    "<br> 1 ODD \n",
    "<br> 2 EVEN \n",
    "<br> 3 ODD"
   ]
  },
  {
   "cell_type": "code",
   "execution_count": 18,
   "id": "171cdcfb",
   "metadata": {},
   "outputs": [],
   "source": [
    "def show_numbers(limit):\n",
    "    lst1 = []\n",
    "    for i in range(0, limit):\n",
    "        if i % 2 == 0:\n",
    "            lst1.append(str(i) + \" \" + 'even')\n",
    "        else:\n",
    "            lst1.append(str(i) +\" \"+ 'odd')\n",
    "    return lst1"
   ]
  },
  {
   "cell_type": "code",
   "execution_count": 20,
   "id": "af4e2615",
   "metadata": {},
   "outputs": [
    {
     "data": {
      "text/plain": [
       "['0 even',\n",
       " '1 odd',\n",
       " '2 even',\n",
       " '3 odd',\n",
       " '4 even',\n",
       " '5 odd',\n",
       " '6 even',\n",
       " '7 odd',\n",
       " '8 even',\n",
       " '9 odd',\n",
       " '10 even',\n",
       " '11 odd',\n",
       " '12 even',\n",
       " '13 odd',\n",
       " '14 even',\n",
       " '15 odd',\n",
       " '16 even',\n",
       " '17 odd']"
      ]
     },
     "execution_count": 20,
     "metadata": {},
     "output_type": "execute_result"
    }
   ],
   "source": [
    "show_numbers(18)"
   ]
  },
  {
   "cell_type": "markdown",
   "id": "418fa94a",
   "metadata": {},
   "source": [
    "2. Napisz funkcję, która wypisuje wszystkie liczby pierwsze od 0 do limitu, gdzie limit jest parametrem."
   ]
  },
  {
   "cell_type": "code",
   "execution_count": 51,
   "id": "c159f1fe",
   "metadata": {},
   "outputs": [],
   "source": [
    "def czy_pierwsza(n):\n",
    "    list1 = []\n",
    "    for n in range(0, n):\n",
    "        if n == 2:\n",
    "            list1.append(n)\n",
    "        if n % 2 == 0 or n <= 1:\n",
    "            continue\n",
    "        \n",
    "        pierw = int(n**0.5) + 1\n",
    "        for dzielnik in range(3, pierw, 2):\n",
    "            if n % dzielnik == 0:\n",
    "                continue\n",
    "        list1.append(n)\n",
    "    return list1\n"
   ]
  },
  {
   "cell_type": "code",
   "execution_count": 56,
   "id": "de16f192",
   "metadata": {},
   "outputs": [
    {
     "data": {
      "text/plain": [
       "[2]"
      ]
     },
     "execution_count": 56,
     "metadata": {},
     "output_type": "execute_result"
    }
   ],
   "source": [
    "czy_pierwsza(3)"
   ]
  },
  {
   "cell_type": "markdown",
   "id": "5e5ac591",
   "metadata": {},
   "source": [
    "3. Napisz funkcję char_freq(), która pobiera łańcuch i tworzy listę częstości zawartych w nim znaków. <br> Przedstaw tę listę jako słownik Pythona (kluczem bedzie znak a wartoscia jego czestosc wystepowania). \n",
    "<br> Spróbuj z czymś takim jak char_freq(\"abbabcbdbabdbdbababcbcbab\") (tutaj podano przykladowy lancuch)."
   ]
  },
  {
   "cell_type": "code",
   "execution_count": 28,
   "id": "76ab4b15",
   "metadata": {},
   "outputs": [
    {
     "name": "stdout",
     "output_type": "stream",
     "text": [
      "{'w': 3, 'a': 2, 'y': 3}\n"
     ]
    }
   ],
   "source": [
    "# def char_freq(chain = \"bsabsaba\"):\n",
    "#     slownik = {}\n",
    "#     for letter in chain:\n",
    "#         slownik.key(letter)\n",
    "        \n",
    "        \n",
    "def char_freq(chain):\n",
    "    frequency = {}\n",
    "    for letter in chain:\n",
    "        if letter not in frequency:\n",
    "            frequency[letter] = 1\n",
    "        else:\n",
    "            frequency[letter] += 1      \n",
    "    print(frequency)\n",
    "        \n",
    "char_freq(\"waawwyyy\")\n",
    "    "
   ]
  },
  {
   "cell_type": "markdown",
   "id": "13190c39",
   "metadata": {},
   "source": [
    "4. Napisz funkcje, ktora znajdzie wszystkie liczby podzielne przez 7, ale nie będące wielokrotnością 5,między 2000 a 3200. Uzyskane liczby należy podać w liście jako wyjście z funkcji."
   ]
  },
  {
   "cell_type": "code",
   "execution_count": 1,
   "id": "40c7c2e2",
   "metadata": {},
   "outputs": [
    {
     "name": "stdout",
     "output_type": "stream",
     "text": [
      "[2002, 2009, 2016, 2023, 2037, 2044, 2051, 2058, 2072, 2079, 2086, 2093, 2107, 2114, 2121, 2128, 2142, 2149, 2156, 2163, 2177, 2184, 2191, 2198, 2212, 2219, 2226, 2233, 2247, 2254, 2261, 2268, 2282, 2289, 2296, 2303, 2317, 2324, 2331, 2338, 2352, 2359, 2366, 2373, 2387, 2394, 2401, 2408, 2422, 2429, 2436, 2443, 2457, 2464, 2471, 2478, 2492, 2499, 2506, 2513, 2527, 2534, 2541, 2548, 2562, 2569, 2576, 2583, 2597, 2604, 2611, 2618, 2632, 2639, 2646, 2653, 2667, 2674, 2681, 2688, 2702, 2709, 2716, 2723, 2737, 2744, 2751, 2758, 2772, 2779, 2786, 2793, 2807, 2814, 2821, 2828, 2842, 2849, 2856, 2863, 2877, 2884, 2891, 2898, 2912, 2919, 2926, 2933, 2947, 2954, 2961, 2968, 2982, 2989, 2996, 3003, 3017, 3024, 3031, 3038, 3052, 3059, 3066, 3073, 3087, 3094, 3101, 3108, 3122, 3129, 3136, 3143, 3157, 3164, 3171, 3178, 3192, 3199]\n"
     ]
    }
   ],
   "source": [
    "def find_7():\n",
    "    lst_7 = []\n",
    "    i=2000\n",
    "    while i<3201:\n",
    "        if i % 7 == 0 and i % 5 !=0:\n",
    "            lst_7.append(i)\n",
    "        i=i+1\n",
    "    return lst_7\n",
    "print(find_7())\n",
    "\n"
   ]
  },
  {
   "cell_type": "code",
   "execution_count": null,
   "id": "9f00fa4c",
   "metadata": {},
   "outputs": [],
   "source": [
    "x=5\n",
    "print(x)\n"
   ]
  },
  {
   "cell_type": "markdown",
   "id": "f230e79a",
   "metadata": {},
   "source": [
    "5. Napisz funkcję, która przyjmuje jako dane wejściowe ciąg słów oddzielonych przecinkami i wyświetla je w kolejności oddzielonej przecinkami po posortowaniu alfabetycznym.\n",
    "<br> Załóżmy, że dostarczane są następujące dane wejściowe: \n",
    "<br> **bez, witaj, torba, świat**,\n",
    "<br> Następnie dane wyjściowe powinny mieć postać:\n",
    "<br> **bez, cześć, świat, torba**"
   ]
  },
  {
   "cell_type": "code",
   "execution_count": 7,
   "id": "ddc95461",
   "metadata": {},
   "outputs": [
    {
     "name": "stdout",
     "output_type": "stream",
     "text": [
      "['ania', 'banana', 'ma']\n"
     ]
    }
   ],
   "source": [
    "def sort_string(words):\n",
    "    x = words.split(',')\n",
    "    return sorted(x)\n",
    "\n",
    "print(sort_string(\"ania,ma,banana\"))\n",
    "\n",
    "\n"
   ]
  },
  {
   "cell_type": "code",
   "execution_count": 69,
   "id": "cf9d357f",
   "metadata": {},
   "outputs": [
    {
     "name": "stdout",
     "output_type": "stream",
     "text": [
      "[' banana', ' ma', 'ania']\n",
      "None\n"
     ]
    }
   ],
   "source": [
    "x = (\"ania, ma, banana\")\n",
    "y = x.split(\",\")\n",
    "y.sort()\n",
    "print(y)\n",
    "\n",
    "x = (\"ania, ma, banana\")\n",
    "y = x.split(\",\").sort()\n",
    "print(y)\n"
   ]
  },
  {
   "cell_type": "code",
   "execution_count": 55,
   "id": "7b1f87fd",
   "metadata": {},
   "outputs": [
    {
     "name": "stdout",
     "output_type": "stream",
     "text": [
      "[' banana', ' ma', 'ania']\n",
      "None\n"
     ]
    }
   ],
   "source": [
    "z = ['ania', ' ma', ' banana']\n",
    "z.sort()\n",
    "print(z)\n",
    "\n",
    "print(['ania', ' ma', ' banana'].sort())"
   ]
  },
  {
   "cell_type": "markdown",
   "id": "39a85ec5",
   "metadata": {},
   "source": [
    "6. Napisz funkcję, która ma drukować słownik, w którym klucze są liczbami, a wartości są kwadratami tych kluczy."
   ]
  },
  {
   "cell_type": "code",
   "execution_count": 4,
   "id": "6b180d6a",
   "metadata": {},
   "outputs": [
    {
     "name": "stdout",
     "output_type": "stream",
     "text": [
      "{1: 1, 2: 4, 3: 9}\n"
     ]
    }
   ],
   "source": [
    "def dict(numbers):\n",
    "    new_dict = {}\n",
    "    for number in numbers:\n",
    "        new_dict[number]=number*number\n",
    "    return new_dict\n",
    "\n",
    "print(dict([1, 2, 3]))\n",
    "    "
   ]
  },
  {
   "cell_type": "markdown",
   "id": "3990bb57",
   "metadata": {},
   "source": [
    "7. Napisz funkcję w Pythonie, który znajdzie medianę trzech wartości.\n",
    "<br> Przyklad rozwiazania:\n",
    "<br> Input first number: 15\n",
    "<br> Input second number: 26\n",
    "<br> Input third number: 29\n",
    "<br> The median is 26.0\n"
   ]
  },
  {
   "cell_type": "code",
   "execution_count": 8,
   "id": "06262a4d",
   "metadata": {},
   "outputs": [
    {
     "name": "stdout",
     "output_type": "stream",
     "text": [
      "3\n"
     ]
    }
   ],
   "source": [
    "def median(a, b, c):\n",
    "    return sorted([a, b, c])[1] \n",
    "\n",
    "print(median(1, 5, 3))\n"
   ]
  },
  {
   "cell_type": "markdown",
   "id": "e9c2378c",
   "metadata": {},
   "source": [
    "1*. Stwórz grę dla dwóch graczy Kamień-Papier-Nożyce.\n",
    "<br> (Wskazówka: Poproś o zagrania graczy (za pomocą danych wejściowych), porównaj je, wydrukuj wiadomość z gratulacjami dla zwycięzcy i zapytaj, czy gracze chcą rozpocząć nową grę).\n",
    "<br> Zapamiętaj zasady:\n",
    "<br> Rock bije nożyczki \n",
    "<br> Nożyczki biją papier \n",
    "<br> Papier bije kamien"
   ]
  },
  {
   "cell_type": "code",
   "execution_count": 18,
   "id": "1be86bf5",
   "metadata": {},
   "outputs": [
    {
     "name": "stdout",
     "output_type": "stream",
     "text": [
      "player1 wybierz: 1 - kamień, 2 - nożyczki, 3 - papier 3\n",
      "player2 wybierz: 1 - kamień, 2 - nożyczki, 3 - papier 2\n"
     ]
    },
    {
     "data": {
      "text/plain": [
       "'player1 wygrał'"
      ]
     },
     "execution_count": 18,
     "metadata": {},
     "output_type": "execute_result"
    }
   ],
   "source": [
    "def game():\n",
    "    player1 = input(\"player1 wybierz: 1 - kamień, 2 - nożyczki, 3 - papier \")\n",
    "    player2 = input(\"player2 wybierz: 1 - kamień, 2 - nożyczki, 3 - papier \")\n",
    "    if player1==player2:\n",
    "        return \"remis\"\n",
    "    elif player1==1 and player2==2:\n",
    "        return \"player1 wygrał\"\n",
    "    elif player1==1 and player2==3:\n",
    "        return \"player2 wygrał\"\n",
    "    elif player1==2 and player2==1:\n",
    "        return \"player1 wygrał\"\n",
    "    else:\n",
    "        return \"player1 wygrał\"\n",
    "\n",
    "\n",
    "game() \n",
    "\n",
    "    \n"
   ]
  },
  {
   "cell_type": "code",
   "execution_count": null,
   "id": "b100690c",
   "metadata": {},
   "outputs": [],
   "source": []
  }
 ],
 "metadata": {
  "kernelspec": {
   "display_name": "Python 3 (ipykernel)",
   "language": "python",
   "name": "python3"
  },
  "language_info": {
   "codemirror_mode": {
    "name": "ipython",
    "version": 3
   },
   "file_extension": ".py",
   "mimetype": "text/x-python",
   "name": "python",
   "nbconvert_exporter": "python",
   "pygments_lexer": "ipython3",
   "version": "3.9.7"
  }
 },
 "nbformat": 4,
 "nbformat_minor": 5
}
